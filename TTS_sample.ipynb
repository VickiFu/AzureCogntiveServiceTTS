{
 "cells": [
  {
   "cell_type": "code",
   "execution_count": null,
   "metadata": {},
   "outputs": [],
   "source": [
    "#! /usr/bin/env python3\n",
    "\n",
    "# -*- coding: utf-8 -*-\n",
    "\n",
    "import http.client, urllib.parse, json\n",
    "from xml.etree import ElementTree\n",
    "import os, requests, time\n",
    "timestr = time.strftime(\"%Y%m%d-%H%M\")\n",
    "print(timestr)"
   ]
  },
  {
   "cell_type": "code",
   "execution_count": null,
   "metadata": {},
   "outputs": [],
   "source": [
    "# Note: new unified SpeechService API key and issue token uri is per region\n",
    "# New unified SpeechService key\n",
    "# Free: https://azure.microsoft.com/en-us/try/cognitive-services/?api=speech-services\n",
    "# Paid: https://go.microsoft.com/fwlink/?LinkId=872236\n",
    "apiKey = \"Your key\"\n",
    "\n",
    "params = \"\"\n",
    "headers = {\"Ocp-Apim-Subscription-Key\": apiKey}\n",
    "\n",
    "#AccessTokenUri = \"https://westus.api.cognitive.microsoft.com/sts/v1.0/issueToken\";\n",
    "AccessTokenHost = \"westus.api.cognitive.microsoft.com\"\n",
    "path = \"/sts/v1.0/issueToken\"\n",
    "\n",
    "# Connect to server to get the Access Token\n",
    "print (\"Connect to server to get the Access Token\")\n",
    "conn = http.client.HTTPSConnection(AccessTokenHost)\n",
    "conn.request(\"POST\", path, params, headers)\n",
    "response = conn.getresponse()\n",
    "print(response.status, response.reason)\n",
    "data = response.read()\n",
    "conn.close()"
   ]
  },
  {
   "cell_type": "code",
   "execution_count": null,
   "metadata": {},
   "outputs": [],
   "source": [
    "accesstoken = data.decode(\"UTF-8\")\n",
    "print (\"Access Token: \" + accesstoken)"
   ]
  },
  {
   "cell_type": "code",
   "execution_count": null,
   "metadata": {},
   "outputs": [],
   "source": [
    "body = ElementTree.Element('speak', version='1.0')\n",
    "body.set('{http://www.w3.org/XML/1998/namespace}lang', 'en-us')\n",
    "voice = ElementTree.SubElement(body, 'voice')\n",
    "voice.set('{http://www.w3.org/XML/1998/namespace}lang', 'en-US')\n",
    "voice.set('{http://www.w3.org/XML/1998/namespace}gender', 'Female')\n",
    "voice.set('name', 'Microsoft Server Speech Text to Speech Voice (en-US, ZiraRUS)')\n",
    "voice.text = 'Recent research at Harvard has shown meditating for as little as 8 weeks can actually increase the grey matter in the parts of the brain responsible for emotional regulation and learning.'"
   ]
  },
  {
   "cell_type": "code",
   "execution_count": null,
   "metadata": {},
   "outputs": [],
   "source": [
    "headers = {\"Content-type\": \"application/ssml+xml\",\n",
    "                        \"X-Microsoft-OutputFormat\": \"riff-24khz-16bit-mono-pcm\",\n",
    "                        \"Authorization\": \"Bearer \" + accesstoken,\n",
    "                        \"X-Search-AppId\": \"07D3234E49CE426DAA29772419F436CA\",\n",
    "                        \"X-Search-ClientID\": \"1ECFAE91408841A480F00935DC390960\",\n",
    "                        \"User-Agent\": \"TTSForPython\"}\n"
   ]
  },
  {
   "cell_type": "code",
   "execution_count": null,
   "metadata": {},
   "outputs": [],
   "source": [
    "print (\"\\nConnect to server to synthesize the wave\")\n",
    "conn = http.client.HTTPSConnection(\"westus.tts.speech.microsoft.com\")\n",
    "conn.request(\"POST\", \"/cognitiveservices/v1\", ElementTree.tostring(body), headers)\n",
    "response = conn.getresponse()\n",
    "print(response.status, response.reason)"
   ]
  },
  {
   "cell_type": "code",
   "execution_count": null,
   "metadata": {},
   "outputs": [],
   "source": [
    "data = response.read()"
   ]
  },
  {
   "cell_type": "code",
   "execution_count": null,
   "metadata": {},
   "outputs": [],
   "source": [
    "with open('sample-' + timestr + '.wav', 'wb') as audio:\n",
    "    audio.write(data)\n",
    "    print(\"\\nYour TTS is ready for playback.\\n\")"
   ]
  },
  {
   "cell_type": "code",
   "execution_count": null,
   "metadata": {},
   "outputs": [],
   "source": []
  }
 ],
 "metadata": {
  "kernelspec": {
   "display_name": "Python 3",
   "language": "python",
   "name": "python3"
  },
  "language_info": {
   "codemirror_mode": {
    "name": "ipython",
    "version": 3
   },
   "file_extension": ".py",
   "mimetype": "text/x-python",
   "name": "python",
   "nbconvert_exporter": "python",
   "pygments_lexer": "ipython3",
   "version": "3.5.5"
  }
 },
 "nbformat": 4,
 "nbformat_minor": 2
}
